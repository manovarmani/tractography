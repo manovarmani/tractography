{
 "cells": [
  {
   "cell_type": "code",
   "execution_count": null,
   "metadata": {},
   "outputs": [],
   "source": [
    "import paramiko\n",
    "import os\n",
    "import stat\n",
    "from tqdm import tqdm"
   ]
  },
  {
   "cell_type": "code",
   "execution_count": null,
   "metadata": {},
   "outputs": [],
   "source": [
    "hostname = 'bridges2.psc.edu'\n",
    "username = 'amanov'\n",
    "password = '110388+neuro'\n",
    "\n",
    "ssh = paramiko.SSHClient()\n",
    "ssh.set_missing_host_key_policy(paramiko.AutoAddPolicy())\n",
    "ssh.connect(hostname, username=username, password=password)"
   ]
  },
  {
   "cell_type": "code",
   "execution_count": null,
   "metadata": {},
   "outputs": [],
   "source": [
    "directory_path = '/ocean/projects/med230011p/shared/data_rep/abcd/2yrfollowup/trks'"
   ]
  },
  {
   "cell_type": "code",
   "execution_count": null,
   "metadata": {},
   "outputs": [],
   "source": [
    "def find_empty_files_ssh(ssh, directory):\n",
    "    empty_files = []\n",
    "    \n",
    "    sftp = ssh.open_sftp()\n",
    "    \n",
    "    def check_directory(path):\n",
    "        for item in tqdm(sftp.listdir_attr(path), desc=\"checking files in \" + os.path.basename(path)):\n",
    "            item_path = os.path.join(path, item.filename)\n",
    "            if stat.S_ISDIR(item.st_mode):\n",
    "                check_directory(item_path)\n",
    "            else:\n",
    "                if item.st_size == 0:\n",
    "                    empty_files.append(item_path)\n",
    "    \n",
    "    check_directory(directory)\n",
    "    sftp.close()\n",
    "    \n",
    "    return empty_files\n"
   ]
  },
  {
   "cell_type": "code",
   "execution_count": 6,
   "metadata": {},
   "outputs": [],
   "source": [
    "empty_files = find_empty_files_ssh(ssh, directory_path)\n",
    "\n",
    "if empty_files:\n",
    "    print(\"empty files:\")\n",
    "    for file in empty_files:\n",
    "        print(file)\n",
    "else:\n",
    "    print(\"no empty files\")\n",
    "\n",
    "ssh.close()\n",
    "\n"
   ]
  },
  {
   "cell_type": "code",
   "execution_count": null,
   "metadata": {},
   "outputs": [],
   "source": []
  }
 ],
 "metadata": {
  "kernelspec": {
   "display_name": "vsc",
   "language": "python",
   "name": "python3"
  },
  "language_info": {
   "codemirror_mode": {
    "name": "ipython",
    "version": 3
   },
   "file_extension": ".py",
   "mimetype": "text/x-python",
   "name": "python",
   "nbconvert_exporter": "python",
   "pygments_lexer": "ipython3",
   "version": "3.9.17"
  }
 },
 "nbformat": 4,
 "nbformat_minor": 2
}
