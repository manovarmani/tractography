{
 "cells": [
  {
   "cell_type": "markdown",
   "metadata": {},
   "source": [
    "# Longitudinal Analysis"
   ]
  },
  {
   "cell_type": "markdown",
   "metadata": {},
   "source": [
    "### Import packages"
   ]
  },
  {
   "cell_type": "code",
   "execution_count": null,
   "metadata": {},
   "outputs": [],
   "source": [
    "import paramiko\n",
    "import pandas as pd\n",
    "import numpy as np\n",
    "import matplotlib.pyplot as plt\n",
    "from sklearn.preprocessing import PolynomialFeatures\n",
    "from sklearn.linear_model import LinearRegression\n",
    "from io import StringIO"
   ]
  },
  {
   "cell_type": "markdown",
   "metadata": {},
   "source": [
    "### SSH Connection + file read"
   ]
  },
  {
   "cell_type": "code",
   "execution_count": null,
   "metadata": {},
   "outputs": [],
   "source": [
    "hostname = 'bridges2.psc.edu'\n",
    "username = 'amanov'\n",
    "password = '110388+neuro'\n",
    "\n",
    "remote_path_baseline = '/ocean/projects/med230011p/shared/data_rep/abcd/baseline/trks/dti_fa.csv'\n",
    "remote_path_2yr = '/ocean/projects/med230011p/shared/data_rep/abcd/2yrfollowup/trks/dti_fa.csv'\n",
    "\n",
    "client = paramiko.SSHClient()\n",
    "client.set_missing_host_key_policy(paramiko.AutoAddPolicy())\n",
    "client.connect(hostname, username=username, password=password)\n",
    "print('SSH connection established')\n",
    "\n",
    "sftp = client.open_sftp()\n",
    "\n",
    "print('reading requested files')\n",
    "with sftp.open(remote_path_baseline, 'r') as remote_file:\n",
    "    csv_content_baseline = remote_file.read()\n",
    "\n",
    "with sftp.open(remote_path_2yr, 'r') as remote_file:\n",
    "    csv_content_2yr = remote_file.read()\n",
    "print('files read')\n",
    "\n",
    "sftp.close()\n",
    "client.close()\n",
    "print('SSH connection closed')\n"
   ]
  },
  {
   "cell_type": "markdown",
   "metadata": {},
   "source": [
    "### Dataframe modification"
   ]
  },
  {
   "cell_type": "code",
   "execution_count": null,
   "metadata": {},
   "outputs": [],
   "source": [
    "data_baseline = pd.read_csv(StringIO(csv_content_baseline.decode('utf-8')))\n",
    "data_2yr = pd.read_csv(StringIO(csv_content_2yr.decode('utf-8')))\n",
    "\n",
    "data_baseline.rename(columns={data_baseline.columns[0]: 'ID'}, inplace=True)\n",
    "data_2yr.rename(columns={data_2yr.columns[0]: 'ID'}, inplace=True)"
   ]
  },
  {
   "cell_type": "markdown",
   "metadata": {},
   "source": [
    "### The next 2 code cells are **mutually exclusive**. Only choose one code cell to run before creating plot.\n",
    "_________"
   ]
  },
  {
   "cell_type": "markdown",
   "metadata": {},
   "source": [
    "OPTION 1: <span style=\"color:red;\">Run code cell below for **FULL** dataset</span>"
   ]
  },
  {
   "cell_type": "code",
   "execution_count": null,
   "metadata": {},
   "outputs": [],
   "source": [
    "tract_names = data_baseline.columns[1:]\n",
    "\n",
    "data_baseline['Time'] = 'Baseline'\n",
    "data_2yr['Time'] = '2 yr'\n",
    "\n",
    "data_baseline_long = pd.melt(data_baseline, id_vars=['ID', 'Time'], value_vars=tract_names, var_name='Tract', value_name='DTI_FA')\n",
    "data_2yr_long = pd.melt(data_2yr, id_vars=['ID', 'Time'], value_vars=tract_names, var_name='Tract', value_name='DTI_FA')\n",
    "\n",
    "combined_data = pd.concat([data_baseline_long, data_2yr_long], ignore_index=True)"
   ]
  },
  {
   "cell_type": "markdown",
   "metadata": {},
   "source": [
    "OPTION 2: <span style=\"color:red;\">Run code cell below for **n=X sampled** dataset</span>"
   ]
  },
  {
   "cell_type": "code",
   "execution_count": null,
   "metadata": {},
   "outputs": [],
   "source": [
    "tract_names = data_baseline.columns[1:]\n",
    "\n",
    "sampled_baseline = data_baseline.sample(n=5000, random_state=42)\n",
    "sampled_2yr = data_2yr[data_2yr['ID'].isin(sampled_baseline['ID'])]\n",
    "\n",
    "sampled_baseline['Time'] = 'Baseline'\n",
    "sampled_2yr['Time'] = '2 yr'\n",
    "\n",
    "sampled_baseline_long = pd.melt(sampled_baseline, id_vars=['ID', 'Time'], value_vars=tract_names, var_name='Tract', value_name='DTI_FA')\n",
    "sampled_2yr_long = pd.melt(sampled_2yr, id_vars=['ID', 'Time'], value_vars=tract_names, var_name='Tract', value_name='DTI_FA')\n",
    "\n",
    "combined_data = pd.concat([sampled_baseline_long, sampled_2yr_long], ignore_index=True)"
   ]
  },
  {
   "cell_type": "markdown",
   "metadata": {},
   "source": [
    "__________"
   ]
  },
  {
   "cell_type": "code",
   "execution_count": null,
   "metadata": {},
   "outputs": [],
   "source": [
    "import pandas as pd\n",
    "import matplotlib.pyplot as plt\n",
    "\n",
    "mean_values = combined_data.groupby('Time')['DTI_FA'].mean().reset_index()\n",
    "\n",
    "plt.figure(figsize=(10, 6))\n",
    "plt.scatter(combined_data['Time'], combined_data['DTI_FA'], alpha=0.3, color='gray', label='Indiv. DTI FA Vals')\n",
    "\n",
    "plt.plot(mean_values['Time'], mean_values['DTI_FA'], 'bo-', label='Mean DTI FA')\n",
    "\n",
    "plt.xlabel('Time')\n",
    "plt.ylabel('Fractional Anisotropy (FA)')\n",
    "plt.title('Change in FA vs. Time')\n",
    "plt.legend()\n",
    "plt.grid(True)\n",
    "plt.show()\n"
   ]
  }
 ],
 "metadata": {
  "kernelspec": {
   "display_name": "vsc",
   "language": "python",
   "name": "python3"
  },
  "language_info": {
   "codemirror_mode": {
    "name": "ipython",
    "version": 3
   },
   "file_extension": ".py",
   "mimetype": "text/x-python",
   "name": "python",
   "nbconvert_exporter": "python",
   "pygments_lexer": "ipython3",
   "version": "3.9.17"
  }
 },
 "nbformat": 4,
 "nbformat_minor": 2
}
