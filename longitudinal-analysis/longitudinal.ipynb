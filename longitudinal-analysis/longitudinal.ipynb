{
 "cells": [
  {
   "cell_type": "code",
   "execution_count": 1,
   "metadata": {},
   "outputs": [],
   "source": [
    "import paramiko\n",
    "import pandas as pd\n",
    "import numpy as np\n",
    "import matplotlib.pyplot as plt\n",
    "from sklearn.preprocessing import PolynomialFeatures\n",
    "from sklearn.linear_model import LinearRegression\n",
    "from io import StringIO"
   ]
  },
  {
   "cell_type": "code",
   "execution_count": null,
   "metadata": {},
   "outputs": [],
   "source": [
    "hostname = 'bridges2@'\n",
    "username = 'your_username'\n",
    "password = 'your_password'\n",
    "remote_path = 'remote_path_to_your_csv.csv'\n",
    "\n",
    "client = paramiko.SSHClient()\n",
    "client.set_missing_host_key_policy(paramiko.AutoAddPolicy())\n",
    "client.connect(hostname, username=username, password=password)\n",
    "\n",
    "sftp = client.open_sftp()\n",
    "with sftp.open(remote_path, 'r') as remote_file:\n",
    "    csv_content = remote_file.read()\n",
    "\n",
    "data = pd.read_csv(StringIO(csv_content.decode('utf-8')))\n",
    "\n",
    "sftp.close()\n",
    "client.close()\n",
    "\n",
    "poly = PolynomialFeatures(degree=3)\n",
    "X_poly = poly.fit_transform(data['Age'].values.reshape(-1, 1))\n",
    "poly_reg_model = LinearRegression()\n",
    "poly_reg_model.fit(X_poly, data['FA'].values)\n",
    "trendline = poly_reg_model.predict(poly.fit_transform(np.linspace(data['Age'].min(), data['Age'].max(), 100).reshape(-1, 1)))\n",
    "\n",
    "plt.scatter(data['Age'], data['FA'], color='skyblue', alpha=0.6, edgecolor='black', label='Data Points')\n",
    "\n",
    "plt.plot(np.linspace(data['Age'].min(), data['Age'].max(), 100), trendline, color='blue', linestyle='-', linewidth=2, label='Trend Line')\n",
    "\n",
    "plt.plot(np.linspace(data['Age'].min(), data['Age'].max(), 100), trendline - 0.02, color='black', linestyle='dashed', linewidth=1, label='Adjusted Trend')\n",
    "\n",
    "plt.title('Genus of the Corpus Callosum')\n",
    "plt.xlabel('Age (years)')\n",
    "plt.ylabel('Fractional Anisotropy (FA)')\n",
    "plt.grid(True)\n",
    "plt.legend()\n",
    "\n",
    "plt.show()\n"
   ]
  }
 ],
 "metadata": {
  "kernelspec": {
   "display_name": "vsc",
   "language": "python",
   "name": "python3"
  },
  "language_info": {
   "codemirror_mode": {
    "name": "ipython",
    "version": 3
   },
   "file_extension": ".py",
   "mimetype": "text/x-python",
   "name": "python",
   "nbconvert_exporter": "python",
   "pygments_lexer": "ipython3",
   "version": "3.9.17"
  }
 },
 "nbformat": 4,
 "nbformat_minor": 2
}
